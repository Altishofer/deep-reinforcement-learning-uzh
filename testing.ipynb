{
 "cells": [
  {
   "cell_type": "code",
   "id": "initial_id",
   "metadata": {
    "collapsed": true,
    "ExecuteTime": {
     "end_time": "2025-10-01T12:57:54.065390Z",
     "start_time": "2025-10-01T12:57:54.014258Z"
    }
   },
   "source": [
    "import torch\n",
    "import torch_directml\n",
    "\n",
    "dml = torch_directml.device()  # gets the default DML device\n",
    "x = torch.randn(1024, 1024, device=dml)\n",
    "y = torch.mm(x, x)\n",
    "print(dml, y.shape)\n"
   ],
   "outputs": [
    {
     "ename": "TypeError",
     "evalue": "'staticmethod' object is not callable",
     "output_type": "error",
     "traceback": [
      "\u001B[1;31m---------------------------------------------------------------------------\u001B[0m",
      "\u001B[1;31mTypeError\u001B[0m                                 Traceback (most recent call last)",
      "Cell \u001B[1;32mIn[3], line 2\u001B[0m\n\u001B[0;32m      1\u001B[0m \u001B[38;5;28;01mimport\u001B[39;00m\u001B[38;5;250m \u001B[39m\u001B[38;5;21;01mtorch\u001B[39;00m\n\u001B[1;32m----> 2\u001B[0m \u001B[38;5;28;01mimport\u001B[39;00m\u001B[38;5;250m \u001B[39m\u001B[38;5;21;01mtorch_directml\u001B[39;00m\n\u001B[0;32m      4\u001B[0m dml \u001B[38;5;241m=\u001B[39m torch_directml\u001B[38;5;241m.\u001B[39mdevice()  \u001B[38;5;66;03m# gets the default DML device\u001B[39;00m\n\u001B[0;32m      5\u001B[0m x \u001B[38;5;241m=\u001B[39m torch\u001B[38;5;241m.\u001B[39mrandn(\u001B[38;5;241m1024\u001B[39m, \u001B[38;5;241m1024\u001B[39m, device\u001B[38;5;241m=\u001B[39mdml)\n",
      "File \u001B[1;32m~\\untracked_folder\\deep-reinforcement-learning-uzh\\.venv\\lib\\site-packages\\torch_directml\\__init__.py:27\u001B[0m\n\u001B[0;32m     24\u001B[0m \u001B[38;5;28;01mfrom\u001B[39;00m\u001B[38;5;250m \u001B[39m\u001B[38;5;21;01m.\u001B[39;00m\u001B[38;5;21;01mfunctions\u001B[39;00m\u001B[38;5;250m \u001B[39m\u001B[38;5;28;01mimport\u001B[39;00m \u001B[38;5;241m*\u001B[39m\n\u001B[0;32m     26\u001B[0m \u001B[38;5;66;03m# # Register backend to support AMP\u001B[39;00m\n\u001B[1;32m---> 27\u001B[0m \u001B[38;5;28;01mclass\u001B[39;00m\u001B[38;5;250m \u001B[39m\u001B[38;5;21;01mPrivateUse1Module\u001B[39;00m:\n\u001B[0;32m     28\u001B[0m     \u001B[38;5;129m@staticmethod\u001B[39m\n\u001B[0;32m     29\u001B[0m     \u001B[38;5;28;01mdef\u001B[39;00m\u001B[38;5;250m \u001B[39m\u001B[38;5;21mis_available\u001B[39m() \u001B[38;5;241m-\u001B[39m\u001B[38;5;241m>\u001B[39m \u001B[38;5;28mbool\u001B[39m:\n\u001B[0;32m     30\u001B[0m \u001B[38;5;250m        \u001B[39m\u001B[38;5;124mr\u001B[39m\u001B[38;5;124;03m\"\"\"Returns a bool indicating if DML is currently available.\"\"\"\u001B[39;00m\n",
      "File \u001B[1;32m~\\untracked_folder\\deep-reinforcement-learning-uzh\\.venv\\lib\\site-packages\\torch_directml\\__init__.py:74\u001B[0m, in \u001B[0;36mPrivateUse1Module\u001B[1;34m()\u001B[0m\n\u001B[0;32m     69\u001B[0m \u001B[38;5;129m@staticmethod\u001B[39m\n\u001B[0;32m     70\u001B[0m \u001B[38;5;28;01mdef\u001B[39;00m\u001B[38;5;250m \u001B[39m\u001B[38;5;21mdisable_tiled_resources\u001B[39m(is_disabled):\n\u001B[0;32m     71\u001B[0m     torch_directml_native\u001B[38;5;241m.\u001B[39mdisable_tiled_resources(is_disabled)\n\u001B[0;32m     73\u001B[0m \u001B[38;5;129m@staticmethod\u001B[39m\n\u001B[1;32m---> 74\u001B[0m \u001B[38;5;28;01mdef\u001B[39;00m\u001B[38;5;250m \u001B[39m\u001B[38;5;21mhas_float64_support\u001B[39m(device_id \u001B[38;5;241m=\u001B[39m \u001B[43mdefault_device\u001B[49m\u001B[43m(\u001B[49m\u001B[43m)\u001B[49m):\n\u001B[0;32m     75\u001B[0m     \u001B[38;5;28;01mreturn\u001B[39;00m torch_directml_native\u001B[38;5;241m.\u001B[39mhas_float64_support(device_id)\n\u001B[0;32m     77\u001B[0m \u001B[38;5;129m@staticmethod\u001B[39m\n\u001B[0;32m     78\u001B[0m \u001B[38;5;28;01mdef\u001B[39;00m\u001B[38;5;250m \u001B[39m\u001B[38;5;21mgpu_memory\u001B[39m(device_id \u001B[38;5;241m=\u001B[39m default_device(), mb_per_tile \u001B[38;5;241m=\u001B[39m \u001B[38;5;241m1\u001B[39m):\n",
      "\u001B[1;31mTypeError\u001B[0m: 'staticmethod' object is not callable"
     ]
    }
   ],
   "execution_count": 3
  }
 ],
 "metadata": {
  "kernelspec": {
   "display_name": "Python 3",
   "language": "python",
   "name": "python3"
  },
  "language_info": {
   "codemirror_mode": {
    "name": "ipython",
    "version": 2
   },
   "file_extension": ".py",
   "mimetype": "text/x-python",
   "name": "python",
   "nbconvert_exporter": "python",
   "pygments_lexer": "ipython2",
   "version": "2.7.6"
  }
 },
 "nbformat": 4,
 "nbformat_minor": 5
}
